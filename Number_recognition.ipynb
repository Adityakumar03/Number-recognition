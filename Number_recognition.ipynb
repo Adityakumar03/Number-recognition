{
  "nbformat": 4,
  "nbformat_minor": 0,
  "metadata": {
    "colab": {
      "provenance": []
    },
    "kernelspec": {
      "name": "python3",
      "display_name": "Python 3"
    },
    "language_info": {
      "name": "python"
    }
  },
  "cells": [
    {
      "cell_type": "markdown",
      "source": [
        "Importing the libraries"
      ],
      "metadata": {
        "id": "HjG3wWmyffWe"
      }
    },
    {
      "cell_type": "markdown",
      "source": [
        "#BHARAT INTERN\n",
        "#DOMAIN - DATA SCIENCE INTERN\n",
        "#TASK 3 - NUMBER RECOGNITION\n",
        "#NAME - ADITYA KUMAR\n",
        "#IN THIS TASK WE WILL USE MNIST DATASET"
      ],
      "metadata": {
        "id": "UxMgYFm-iZIX"
      }
    },
    {
      "cell_type": "code",
      "source": [
        "import numpy as np\n",
        "import matplotlib.pyplot as plt\n",
        "from sklearn.model_selection import train_test_split\n",
        "from sklearn.metrics import accuracy_score\n",
        "from keras.datasets import mnist\n",
        "from keras.models import Sequential\n",
        "from keras.layers import Dense, Dropout\n",
        "from keras.utils import np_utils"
      ],
      "metadata": {
        "id": "5fwSKmXyflIJ"
      },
      "execution_count": 1,
      "outputs": []
    },
    {
      "cell_type": "markdown",
      "source": [
        "Load and preprocess the MNIST dataset"
      ],
      "metadata": {
        "id": "znduI-snftus"
      }
    },
    {
      "cell_type": "code",
      "source": [
        "(X_train, y_train), (X_test, y_test) = mnist.load_data()\n",
        "\n",
        "# Flatten the input images from 28x28 pixels to 784-dimensional vectors\n",
        "X_train = X_train.reshape(X_train.shape[0], 784).astype('float32')\n",
        "X_test = X_test.reshape(X_test.shape[0], 784).astype('float32')\n",
        "\n",
        "# Normalize the pixel values between 0 and 1\n",
        "X_train /= 255\n",
        "X_test /= 255\n",
        "\n",
        "# Convert the target labels to categorical one-hot encoding\n",
        "y_train = np_utils.to_categorical(y_train, 10)\n",
        "y_test = np_utils.to_categorical(y_test, 10)"
      ],
      "metadata": {
        "colab": {
          "base_uri": "https://localhost:8080/"
        },
        "id": "fgDZ2srVfus8",
        "outputId": "d2a76c13-5ac4-496d-8fff-c1e41acfaeee"
      },
      "execution_count": 2,
      "outputs": [
        {
          "output_type": "stream",
          "name": "stdout",
          "text": [
            "Downloading data from https://storage.googleapis.com/tensorflow/tf-keras-datasets/mnist.npz\n",
            "11490434/11490434 [==============================] - 0s 0us/step\n"
          ]
        }
      ]
    },
    {
      "cell_type": "markdown",
      "source": [
        "Building the neural network model"
      ],
      "metadata": {
        "id": "f31yWnSLf4GJ"
      }
    },
    {
      "cell_type": "code",
      "source": [
        "model = Sequential()\n",
        "model.add(Dense(512, input_shape=(784,), activation='relu'))\n",
        "model.add(Dropout(0.2))\n",
        "model.add(Dense(512, activation='relu'))\n",
        "model.add(Dropout(0.2))\n",
        "model.add(Dense(10, activation='softmax'))\n",
        "\n",
        "model.compile(loss='categorical_crossentropy', optimizer='adam', metrics=['accuracy'])\n"
      ],
      "metadata": {
        "id": "QRGv2YfJf8n8"
      },
      "execution_count": 3,
      "outputs": []
    },
    {
      "cell_type": "markdown",
      "source": [
        "Train the model"
      ],
      "metadata": {
        "id": "e7PF8D9RgBap"
      }
    },
    {
      "cell_type": "code",
      "source": [
        "history = model.fit(X_train, y_train, validation_data=(X_test, y_test), epochs=10, batch_size=128)\n"
      ],
      "metadata": {
        "colab": {
          "base_uri": "https://localhost:8080/"
        },
        "id": "PTu0gAuxgC28",
        "outputId": "8a46e9b5-cee4-4b10-f0f9-a8240976edfd"
      },
      "execution_count": 4,
      "outputs": [
        {
          "output_type": "stream",
          "name": "stdout",
          "text": [
            "Epoch 1/10\n",
            "469/469 [==============================] - 19s 38ms/step - loss: 0.2526 - accuracy: 0.9238 - val_loss: 0.0975 - val_accuracy: 0.9677\n",
            "Epoch 2/10\n",
            "469/469 [==============================] - 11s 24ms/step - loss: 0.1002 - accuracy: 0.9684 - val_loss: 0.0733 - val_accuracy: 0.9763\n",
            "Epoch 3/10\n",
            "469/469 [==============================] - 10s 21ms/step - loss: 0.0723 - accuracy: 0.9771 - val_loss: 0.0739 - val_accuracy: 0.9764\n",
            "Epoch 4/10\n",
            "469/469 [==============================] - 10s 22ms/step - loss: 0.0557 - accuracy: 0.9818 - val_loss: 0.0621 - val_accuracy: 0.9798\n",
            "Epoch 5/10\n",
            "469/469 [==============================] - 11s 24ms/step - loss: 0.0449 - accuracy: 0.9860 - val_loss: 0.0636 - val_accuracy: 0.9806\n",
            "Epoch 6/10\n",
            "469/469 [==============================] - 11s 23ms/step - loss: 0.0385 - accuracy: 0.9874 - val_loss: 0.0624 - val_accuracy: 0.9813\n",
            "Epoch 7/10\n",
            "469/469 [==============================] - 11s 23ms/step - loss: 0.0337 - accuracy: 0.9887 - val_loss: 0.0702 - val_accuracy: 0.9799\n",
            "Epoch 8/10\n",
            "469/469 [==============================] - 10s 22ms/step - loss: 0.0309 - accuracy: 0.9901 - val_loss: 0.0698 - val_accuracy: 0.9808\n",
            "Epoch 9/10\n",
            "469/469 [==============================] - 10s 22ms/step - loss: 0.0287 - accuracy: 0.9905 - val_loss: 0.0660 - val_accuracy: 0.9814\n",
            "Epoch 10/10\n",
            "469/469 [==============================] - 12s 25ms/step - loss: 0.0257 - accuracy: 0.9916 - val_loss: 0.0758 - val_accuracy: 0.9807\n"
          ]
        }
      ]
    },
    {
      "cell_type": "markdown",
      "source": [
        "Evaluate the model"
      ],
      "metadata": {
        "id": "eD2Z5U0PgtXs"
      }
    },
    {
      "cell_type": "code",
      "source": [
        "accuracy = model.evaluate(X_test, y_test)[1]\n",
        "print(\"Accuracy:\", accuracy)"
      ],
      "metadata": {
        "colab": {
          "base_uri": "https://localhost:8080/"
        },
        "id": "vUAF7EmEgu80",
        "outputId": "978026a8-232c-4554-bd1d-08a5f8b9565a"
      },
      "execution_count": 8,
      "outputs": [
        {
          "output_type": "stream",
          "name": "stdout",
          "text": [
            "313/313 [==============================] - 1s 3ms/step - loss: 0.0758 - accuracy: 0.9807\n",
            "Accuracy: 0.9807000160217285\n"
          ]
        }
      ]
    },
    {
      "cell_type": "markdown",
      "source": [
        "Plot the training history"
      ],
      "metadata": {
        "id": "ccVrZOtBg0hl"
      }
    },
    {
      "cell_type": "code",
      "source": [
        "plt.plot(history.history['accuracy'])\n",
        "plt.plot(history.history['val_accuracy'])\n",
        "plt.title('Model Accuracy')\n",
        "plt.ylabel('Accuracy')\n",
        "plt.xlabel('Epoch')\n",
        "plt.legend(['Train', 'Test'], loc='upper left')\n",
        "plt.show()"
      ],
      "metadata": {
        "colab": {
          "base_uri": "https://localhost:8080/",
          "height": 472
        },
        "id": "ii4EAU44g_0V",
        "outputId": "c25998cc-0637-4f6c-843e-d71cf0335ae8"
      },
      "execution_count": 7,
      "outputs": [
        {
          "output_type": "display_data",
          "data": {
            "text/plain": [
              "<Figure size 640x480 with 1 Axes>"
            ],
            "image/png": "[encoded data removed]"
          },
          "metadata": {}
        }
      ]
    },
    {
      "cell_type": "markdown",
      "source": [
        "making predictions"
      ],
      "metadata": {
        "id": "CvXrANUCh6sP"
      }
    },
    {
      "cell_type": "code",
      "source": [
        "# Predict on a single image\n",
        "digit = X_test[0]\n",
        "digit = np.expand_dims(digit, axis=0)\n",
        "prediction = model.predict(digit)\n",
        "predicted_class = np.argmax(prediction)\n",
        "print(\"Predicted digit:\", predicted_class)"
      ],
      "metadata": {
        "colab": {
          "base_uri": "https://localhost:8080/"
        },
        "id": "n_okEJUCh8sA",
        "outputId": "b334bd9f-fd99-4f01-dc4f-8bd4ce282dfc"
      },
      "execution_count": 10,
      "outputs": [
        {
          "output_type": "stream",
          "name": "stdout",
          "text": [
            "1/1 [==============================] - 0s 93ms/step\n",
            "Predicted digit: 7\n"
          ]
        }
      ]
    },
    {
      "cell_type": "markdown",
      "source": [
        "End :)"
      ],
      "metadata": {
        "id": "nUdabQlIiWUj"
      }
    }
  ]
}